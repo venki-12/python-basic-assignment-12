{
 "cells": [
  {
   "cell_type": "code",
   "execution_count": 1,
   "metadata": {},
   "outputs": [],
   "source": [
    "#In what modes should the PdfFileReader() and PdfFileWriter() File objects will be opened?\n",
    "#Read-binary ('rb') for PdfFileReader() and write-binary ('wb') for PdfFileWriter()"
   ]
  },
  {
   "cell_type": "code",
   "execution_count": 2,
   "metadata": {},
   "outputs": [],
   "source": [
    "#From a PdfFileReader object, how do you get a Page object for page 5?\n",
    "# Calling getPage(4) will return a Page object for About this Book, since page 0 is the first page.\n"
   ]
  },
  {
   "cell_type": "code",
   "execution_count": 3,
   "metadata": {},
   "outputs": [],
   "source": [
    "#What PdfFileReader variable stores the number of pages in the PDF document?\n",
    "# numpages will store number of pages in the pdf document."
   ]
  },
  {
   "cell_type": "code",
   "execution_count": 5,
   "metadata": {},
   "outputs": [],
   "source": [
    "#If a PdfFileReader object’s PDF is encrypted with the password swordfish, what must you do before you can obtain Page objects from it?\n",
    "# Call decrypt('swordfish')"
   ]
  },
  {
   "cell_type": "code",
   "execution_count": 8,
   "metadata": {},
   "outputs": [],
   "source": [
    "#What methods do you use to rotate a page?\n",
    "#we will use the  rotate.Clockwise() method of a PDF object"
   ]
  },
  {
   "cell_type": "code",
   "execution_count": 7,
   "metadata": {},
   "outputs": [],
   "source": [
    "#What is the difference between a Run object and a Paragraph object?\n",
    "# A Run object is a contiguous run of text with the same style.\n",
    "#Paragraph objects contains a list of one or more Run objects."
   ]
  },
  {
   "cell_type": "code",
   "execution_count": 9,
   "metadata": {},
   "outputs": [],
   "source": [
    "#How do you obtain a list of Paragraph objects for a Document object that’s stored in a variable named doc?"
   ]
  },
  {
   "cell_type": "code",
   "execution_count": 11,
   "metadata": {},
   "outputs": [],
   "source": [
    "#What type of object has bold, underline, italic, strike, and outline variables?\n",
    "#paragraph objects has bold, underline,italic, strike amd outline variable."
   ]
  },
  {
   "cell_type": "code",
   "execution_count": 12,
   "metadata": {},
   "outputs": [],
   "source": [
    "#What is the difference between False, True, and None for the bold variable?\n",
    "# True (the attribute is always enabled, no matter what other styles are applied to the run), False (the attribute is always disabled), or None (defaults to whatever the run’s style is set to)."
   ]
  },
  {
   "cell_type": "code",
   "execution_count": 13,
   "metadata": {},
   "outputs": [],
   "source": [
    "#How do you create a Document object for a new Word document?\n",
    "# call docx.Document() to return a new, blank Word Document object. "
   ]
  },
  {
   "cell_type": "code",
   "execution_count": 14,
   "metadata": {},
   "outputs": [],
   "source": [
    "#How do you add a paragraph with the text \"Hello, there!\"; to a Document object stored in avariable named doc?\n",
    "# doc.add_paragraph('Hello ,There!') will add a paragraph to the document\n"
   ]
  },
  {
   "cell_type": "code",
   "execution_count": null,
   "metadata": {},
   "outputs": [],
   "source": [
    "#What integers represent the levels of headings available in Word documents?\n",
    "# To add_heading() are a string of the heading text and an integer from 0 to 4. "
   ]
  }
 ],
 "metadata": {
  "kernelspec": {
   "display_name": "Python 3",
   "language": "python",
   "name": "python3"
  },
  "language_info": {
   "codemirror_mode": {
    "name": "ipython",
    "version": 3
   },
   "file_extension": ".py",
   "mimetype": "text/x-python",
   "name": "python",
   "nbconvert_exporter": "python",
   "pygments_lexer": "ipython3",
   "version": "3.8.5"
  }
 },
 "nbformat": 4,
 "nbformat_minor": 4
}
